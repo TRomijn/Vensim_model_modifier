{
 "cells": [
  {
   "cell_type": "code",
   "execution_count": 1,
   "metadata": {
    "collapsed": true
   },
   "outputs": [],
   "source": [
    "#todo: change name of helperfunctions\n",
    "\n",
    "import LoopDeactivator as ld #helperfunctions\n",
    "\n",
    "import VensimModifyer as vm\n"
   ]
  },
  {
   "cell_type": "markdown",
   "metadata": {},
   "source": [
    "## Read a Vensim MDL file"
   ]
  },
  {
   "cell_type": "markdown",
   "metadata": {},
   "source": [
    "The code opens the MDL file and converts it to a list object."
   ]
  },
  {
   "cell_type": "code",
   "execution_count": 3,
   "metadata": {
    "collapsed": true
   },
   "outputs": [],
   "source": [
    "# Read original MDL file \n",
    "filename = \"test_models/Duplicate variable test.mdl\"\n",
    "orig_list = ld.read_mdl_file(filename)"
   ]
  },
  {
   "cell_type": "markdown",
   "metadata": {},
   "source": [
    "# To duplicate a Variable"
   ]
  },
  {
   "cell_type": "markdown",
   "metadata": {},
   "source": [
    "New variable is called \"oldvarnameDuplicate\"\n",
    "\n",
    "**Working**\n",
    "- Tested with both auxiliaries and stocks\n",
    "\n",
    "Todo:\n",
    "- Transfer to VensimModifier as one nice formula\n",
    "- Choose which duplicate label to use"
   ]
  },
  {
   "cell_type": "markdown",
   "metadata": {},
   "source": [
    "<img src=\"figs/duplicated variable.png\">"
   ]
  },
  {
   "cell_type": "code",
   "execution_count": 4,
   "metadata": {
    "code_folding": [],
    "collapsed": true,
    "scrolled": true
   },
   "outputs": [],
   "source": [
    "#variable to be duplicated\n",
    "Orig_Var = \"Var B\"\n",
    "# Find formula start and end.\n",
    "i_start, i_end = ld.find_var_function(Orig_Var, orig_list)"
   ]
  },
  {
   "cell_type": "code",
   "execution_count": 5,
   "metadata": {
    "code_folding": [],
    "collapsed": true
   },
   "outputs": [],
   "source": [
    "# duplicate formula of a variable\n",
    "new_mdl_list = ld.duplicate_formula(Orig_Var, i_start, i_end, orig_list)"
   ]
  },
  {
   "cell_type": "code",
   "execution_count": 6,
   "metadata": {
    "code_folding": [],
    "collapsed": true,
    "scrolled": true
   },
   "outputs": [],
   "source": [
    "# Add sketch information\n",
    "new_mdl_list = ld.add_to_vensim_sketch(Orig_Var, new_mdl_list)"
   ]
  },
  {
   "cell_type": "code",
   "execution_count": 7,
   "metadata": {
    "scrolled": true
   },
   "outputs": [
    {
     "name": "stdout",
     "output_type": "stream",
     "text": [
      "New file has been saved\n",
      "File has been saved as: test_models/Duplicate variable test_result.mdl\n"
     ]
    }
   ],
   "source": [
    "# To save\n",
    "ld.save_list_to_mdl(new_mdl_list, \"test_models/Duplicate variable test_result.mdl\")"
   ]
  },
  {
   "cell_type": "markdown",
   "metadata": {
    "collapsed": true
   },
   "source": [
    "## To add a formula "
   ]
  },
  {
   "cell_type": "markdown",
   "metadata": {},
   "source": [
    "Note: The position of the new variable will be (x,y) 0,0. This means it's in the left-upper corner\n",
    "**Working**"
   ]
  },
  {
   "cell_type": "markdown",
   "metadata": {},
   "source": [
    "<img src=\"figs/Added Variable.png\">"
   ]
  },
  {
   "cell_type": "code",
   "execution_count": 3,
   "metadata": {
    "collapsed": true
   },
   "outputs": [],
   "source": [
    "# Read original MDL file \n",
    "filename = \"test_models/Add Variable Test.mdl\"\n",
    "orig_list = ld.read_mdl_file(filename)"
   ]
  },
  {
   "cell_type": "code",
   "execution_count": 4,
   "metadata": {
    "code_folding": [],
    "collapsed": true
   },
   "outputs": [],
   "source": [
    "#ToDo: code instructions function"
   ]
  },
  {
   "cell_type": "code",
   "execution_count": 4,
   "metadata": {
    "collapsed": true,
    "scrolled": true
   },
   "outputs": [],
   "source": [
    "orig_list = vm.AddVariable(\"Sales baby clothes\", \"Births * 10\", orig_list, Gaming=False, view='View 1')"
   ]
  },
  {
   "cell_type": "code",
   "execution_count": 6,
   "metadata": {
    "scrolled": true
   },
   "outputs": [
    {
     "name": "stdout",
     "output_type": "stream",
     "text": [
      "New file has been saved\n",
      "File has been saved as: test_models/Add Variable Test Result.mdl\n"
     ]
    }
   ],
   "source": [
    "ld.save_list_to_mdl(orig_list, \"test_models/Add Variable Test Result.mdl\")"
   ]
  },
  {
   "cell_type": "markdown",
   "metadata": {},
   "source": [
    "## Replace Variables in a Formula"
   ]
  },
  {
   "cell_type": "markdown",
   "metadata": {},
   "source": [
    "**Change the variable in the Right-Hand Side.**\n",
    "\n",
    "For example: Replace Var B with VarBDuplicate"
   ]
  },
  {
   "cell_type": "markdown",
   "metadata": {},
   "source": [
    "<img src=\"figs/Change Variable in Formula.png\">"
   ]
  },
  {
   "cell_type": "code",
   "execution_count": 16,
   "metadata": {
    "collapsed": true
   },
   "outputs": [],
   "source": [
    "# Read original MDL file \n",
    "filename = \"test_models/Replace Variable in Formula.mdl\"\n",
    "orig_list = ld.read_mdl_file(filename)"
   ]
  },
  {
   "cell_type": "code",
   "execution_count": 17,
   "metadata": {
    "scrolled": false
   },
   "outputs": [
    {
     "name": "stdout",
     "output_type": "stream",
     "text": [
      "Old formula: ['outflow=\\n', '\\tVar B\\n']\n",
      "New formula: ['outflow=\\n', '\\tVar BDuplicate\\n']\n"
     ]
    }
   ],
   "source": [
    "new_mdl = vm.replace_vars_in_RHS(orig_list,\"outflow\", \"Var B\", \"Var BDuplicate\")"
   ]
  },
  {
   "cell_type": "code",
   "execution_count": 18,
   "metadata": {
    "scrolled": true
   },
   "outputs": [
    {
     "name": "stdout",
     "output_type": "stream",
     "text": [
      "New file has been saved\n",
      "File has been saved as: test_models/Replace Variable in Formula Result.mdl\n"
     ]
    }
   ],
   "source": [
    "ld.save_list_to_mdl(new_mdl,\"test_models/Replace Variable in Formula Result.mdl\")"
   ]
  },
  {
   "cell_type": "markdown",
   "metadata": {},
   "source": [
    "## Deactivating Phaff"
   ]
  },
  {
   "cell_type": "markdown",
   "metadata": {},
   "source": [
    "These three functions can for example be used to automate Phaff's Loop Deactivation Method. Pseudocode:"
   ]
  },
  {
   "cell_type": "code",
   "execution_count": 19,
   "metadata": {
    "collapsed": true
   },
   "outputs": [],
   "source": [
    "# Duplicate (From)variable\n",
    "# Add switch variable: if time<x orig else duplicate.\n",
    "# Change original variable name to the switch variable name in the formula of the target variable.\n"
   ]
  }
 ],
 "metadata": {
  "kernelspec": {
   "display_name": "Python 3",
   "language": "python",
   "name": "python3"
  },
  "language_info": {
   "codemirror_mode": {
    "name": "ipython",
    "version": 3
   },
   "file_extension": ".py",
   "mimetype": "text/x-python",
   "name": "python",
   "nbconvert_exporter": "python",
   "pygments_lexer": "ipython3",
   "version": "3.6.0"
  }
 },
 "nbformat": 4,
 "nbformat_minor": 2
}

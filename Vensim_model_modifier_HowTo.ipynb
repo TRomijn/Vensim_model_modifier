{
 "cells": [
  {
   "cell_type": "markdown",
   "metadata": {},
   "source": [
    "# Vensim Modifier"
   ]
  },
  {
   "cell_type": "markdown",
   "metadata": {},
   "source": [
    "The GitHub page of this tool can be found <a href= https://github.com/TRomijn/Vensim_model_modifier> here</a>."
   ]
  },
  {
   "cell_type": "code",
   "execution_count": 1,
   "metadata": {
    "collapsed": true
   },
   "outputs": [],
   "source": [
    "import VensimModifier as vm\n"
   ]
  },
  {
   "cell_type": "markdown",
   "metadata": {},
   "source": [
    "## Read a Vensim MDL file"
   ]
  },
  {
   "cell_type": "markdown",
   "metadata": {},
   "source": [
    "The code opens the MDL file and converts it to a list object."
   ]
  },
  {
   "cell_type": "code",
   "execution_count": 3,
   "metadata": {
    "collapsed": true
   },
   "outputs": [],
   "source": [
    "# Read original MDL file \n",
    "filename = \"test_models/Duplicate variable test.mdl\"\n",
    "orig_model = vm.read_mdl_file(filename)"
   ]
  },
  {
   "cell_type": "markdown",
   "metadata": {},
   "source": [
    "# To duplicate a Variable"
   ]
  },
  {
   "cell_type": "markdown",
   "metadata": {},
   "source": [
    "New variable is called \"-oldvarname-Duplicate\"\n",
    "\n",
    "- Tested with both auxiliaries and stocks\n"
   ]
  },
  {
   "cell_type": "markdown",
   "metadata": {},
   "source": [
    "<img src=\"figs/duplicated variable.png\">"
   ]
  },
  {
   "cell_type": "code",
   "execution_count": 3,
   "metadata": {
    "collapsed": true
   },
   "outputs": [],
   "source": [
    "orig_model = vm.read_mdl_file(\"test_models/Duplicate variable test - Copy.mdl\")\n",
    "new_model = vm.duplicate_variable(orig_model, \"Var B\")"
   ]
  },
  {
   "cell_type": "code",
   "execution_count": 5,
   "metadata": {},
   "outputs": [
    {
     "name": "stdout",
     "output_type": "stream",
     "text": [
      "New file has been saved\n",
      "File has been saved as: test_models/Duplicate variable test - Copy_result.mdl\n"
     ]
    }
   ],
   "source": [
    "vm.save_list_to_mdl(new_model, \"test_models/Duplicate variable test - Copy_result.mdl\")"
   ]
  },
  {
   "cell_type": "markdown",
   "metadata": {
    "collapsed": true
   },
   "source": [
    "## To add a formula "
   ]
  },
  {
   "cell_type": "markdown",
   "metadata": {},
   "source": [
    "Note: The position of the new variable will be (x,y) 0,0. This means it's in the left-upper corner\n",
    "**Working**"
   ]
  },
  {
   "cell_type": "markdown",
   "metadata": {},
   "source": [
    "<img src=\"figs/Added Variable.png\">"
   ]
  },
  {
   "cell_type": "code",
   "execution_count": 12,
   "metadata": {
    "collapsed": true
   },
   "outputs": [],
   "source": [
    "# Read original MDL file \n",
    "filename = \"test_models/Add Variable Test.mdl\"\n",
    "orig_model = vm.read_mdl_file(filename)"
   ]
  },
  {
   "cell_type": "code",
   "execution_count": 13,
   "metadata": {
    "collapsed": true,
    "scrolled": true
   },
   "outputs": [],
   "source": [
    "new_model = vm.AddVariable(\"Sales baby clothes\", \"Births * 10\", orig_model, Gaming=False, view='View 1')"
   ]
  },
  {
   "cell_type": "code",
   "execution_count": 14,
   "metadata": {
    "scrolled": true
   },
   "outputs": [
    {
     "name": "stdout",
     "output_type": "stream",
     "text": [
      "New file has been saved\n",
      "File has been saved as: test_models/Add Variable Test Result.mdl2\n"
     ]
    }
   ],
   "source": [
    "vm.save_list_to_mdl(new_model, \"test_models/Add Variable Test Result.mdl2\")"
   ]
  },
  {
   "cell_type": "markdown",
   "metadata": {},
   "source": [
    "## Replace Variables in a Formula"
   ]
  },
  {
   "cell_type": "markdown",
   "metadata": {},
   "source": [
    "**Change the variable in the Right-Hand Side.**\n",
    "\n",
    "For example: Replace Var B with VarBDuplicate"
   ]
  },
  {
   "cell_type": "markdown",
   "metadata": {},
   "source": [
    "<img src=\"figs/Change Variable in Formula.png\">"
   ]
  },
  {
   "cell_type": "code",
   "execution_count": 16,
   "metadata": {
    "collapsed": true
   },
   "outputs": [],
   "source": [
    "# Read original MDL file \n",
    "filename = \"test_models/Replace Variable in Formula.mdl\"\n",
    "orig_model = vm.read_mdl_file(filename)"
   ]
  },
  {
   "cell_type": "code",
   "execution_count": 17,
   "metadata": {
    "scrolled": false
   },
   "outputs": [
    {
     "name": "stdout",
     "output_type": "stream",
     "text": [
      "Old formula: ['outflow=\\n', '\\tVar B\\n']\n",
      "New formula: ['outflow=\\n', '\\tVar BDuplicate\\n']\n"
     ]
    }
   ],
   "source": [
    "new_model = vm.replace_vars_in_RHS(orig_model,\"outflow\", \"Var B\", \"Var BDuplicate\")"
   ]
  },
  {
   "cell_type": "code",
   "execution_count": 19,
   "metadata": {
    "scrolled": true
   },
   "outputs": [
    {
     "name": "stdout",
     "output_type": "stream",
     "text": [
      "New file has been saved\n",
      "File has been saved as: test_models/Replace Variable in Formula Result.mdl2\n"
     ]
    }
   ],
   "source": [
    "vm.save_list_to_mdl(new_model,\"test_models/Replace Variable in Formula Result.mdl\")"
   ]
  },
  {
   "cell_type": "markdown",
   "metadata": {},
   "source": [
    "## Deactivating Phaff"
   ]
  },
  {
   "cell_type": "markdown",
   "metadata": {},
   "source": [
    "These three functions can for example be used to automate Phaff's Loop Deactivation Method. Pseudocode:"
   ]
  },
  {
   "cell_type": "code",
   "execution_count": 19,
   "metadata": {
    "collapsed": true
   },
   "outputs": [],
   "source": [
    "# Duplicate (From)variable\n",
    "# Add switch variable: if time<x orig else duplicate.\n",
    "# Change original variable name to the switch variable name in the formula of the target variable.\n"
   ]
  },
  {
   "cell_type": "markdown",
   "metadata": {},
   "source": [
    "To identify all loops in the Shortest Independent Loop Set, use the finding SILS code on <a href=\"https://github.com/eebart/SILS\">the SILS GitHub</a> page."
   ]
  },
  {
   "cell_type": "markdown",
   "metadata": {},
   "source": [
    "## Get familiar with how it works"
   ]
  },
  {
   "cell_type": "code",
   "execution_count": 24,
   "metadata": {
    "collapsed": true
   },
   "outputs": [],
   "source": [
    "filename = \"test_models/Duplicate variable test.mdl\"\n",
    "orig_model = vm.read_mdl_file(filename)"
   ]
  },
  {
   "cell_type": "code",
   "execution_count": 25,
   "metadata": {},
   "outputs": [
    {
     "data": {
      "text/plain": [
       "['{UTF-8}\\n',\n",
       " 'inflow=\\n',\n",
       " '\\tVar A\\n',\n",
       " '\\t~\\t\\n',\n",
       " '\\t~\\t\\t|\\n',\n",
       " '\\n',\n",
       " 'outflow=\\n',\n",
       " '\\tVar B\\n',\n",
       " '\\t~\\t\\n',\n",
       " '\\t~\\t\\t|\\n',\n",
       " '\\n',\n",
       " 'Stock C= INTEG (\\n',\n",
       " '\\tinflow-outflow,\\n',\n",
       " '\\t\\t100)\\n',\n",
       " '\\t~\\t\\n',\n",
       " '\\t~\\t\\t|\\n',\n",
       " '\\n',\n",
       " 'test=\\n',\n",
       " '\\tVar A + 1\\n',\n",
       " '\\t~\\t\\n']"
      ]
     },
     "execution_count": 25,
     "metadata": {},
     "output_type": "execute_result"
    }
   ],
   "source": [
    "# The model is just a converted list from the flat textfile\n",
    "orig_model[:20]"
   ]
  },
  {
   "cell_type": "code",
   "execution_count": 26,
   "metadata": {},
   "outputs": [
    {
     "name": "stdout",
     "output_type": "stream",
     "text": [
      "inflow=\n",
      "outflow=\n",
      "Stock C= INTEG (\n",
      "test=\n",
      "Var A=\n",
      "Var B=\n",
      "FINAL TIME  = 100\n",
      "INITIAL TIME  = 0\n",
      "SAVEPER  =\n",
      "TIME STEP  = 1\n"
     ]
    }
   ],
   "source": [
    "# E.G. To get all the variables:\n",
    "for x in orig_model:\n",
    "    if '=' in x:\n",
    "        print(x.strip())"
   ]
  }
 ],
 "metadata": {
  "kernelspec": {
   "display_name": "Python 3",
   "language": "python",
   "name": "python3"
  },
  "language_info": {
   "codemirror_mode": {
    "name": "ipython",
    "version": 3
   },
   "file_extension": ".py",
   "mimetype": "text/x-python",
   "name": "python",
   "nbconvert_exporter": "python",
   "pygments_lexer": "ipython3",
   "version": "3.6.0"
  }
 },
 "nbformat": 4,
 "nbformat_minor": 2
}
